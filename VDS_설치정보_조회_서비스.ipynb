{
  "nbformat": 4,
  "nbformat_minor": 0,
  "metadata": {
    "colab": {
      "name": "VDS 설치정보 조회 서비스",
      "provenance": [],
      "collapsed_sections": []
    },
    "kernelspec": {
      "name": "python3",
      "display_name": "Python 3"
    },
    "language_info": {
      "name": "python"
    }
  },
  "cells": [
    {
      "cell_type": "markdown",
      "source": [
        "VDS 설치정보 조회 서비스 \n",
        "http://data.ex.co.kr/openapi/basicinfo/openApiInfoM?apiId=0404&serviceType=&keyWord=&searchDayFrom=2014.12.01&searchDayTo=2022.06.21&CATEGORY=TR&GROUP_TR=COD_STD"
      ],
      "metadata": {
        "id": "-fjidNvr5qHx"
      }
    },
    {
      "cell_type": "code",
      "execution_count": 1,
      "metadata": {
        "colab": {
          "base_uri": "https://localhost:8080/"
        },
        "id": "gTXCTDUb3IR5",
        "outputId": "6dfb7168-9a4f-426c-c0a3-66676e79a3f1"
      },
      "outputs": [
        {
          "output_type": "stream",
          "name": "stdout",
          "text": [
            "Looking in indexes: https://pypi.org/simple, https://us-python.pkg.dev/colab-wheels/public/simple/\n",
            "Collecting xmltodict\n",
            "  Downloading xmltodict-0.13.0-py2.py3-none-any.whl (10.0 kB)\n",
            "Installing collected packages: xmltodict\n",
            "Successfully installed xmltodict-0.13.0\n"
          ]
        }
      ],
      "source": [
        "! pip install xmltodict"
      ]
    },
    {
      "cell_type": "code",
      "source": [
        "import json\n",
        "\n",
        "def parse_re(input_re: str):\n",
        "    try:\n",
        "        return_dict = json.loads(input_re)\n",
        "    except json.decoder.JSONDecodeError:\n",
        "        return_dict = dict()\n",
        "    finally:\n",
        "        return return_dict"
      ],
      "metadata": {
        "id": "erUqOCcG3SQw"
      },
      "execution_count": 2,
      "outputs": []
    },
    {
      "cell_type": "code",
      "source": [
        "import pandas as pd\n",
        "from pandas.io.json import json_normalize\n",
        "import requests\n",
        "import pprint\n",
        "import json"
      ],
      "metadata": {
        "id": "K88HRPnn3STC"
      },
      "execution_count": 3,
      "outputs": []
    },
    {
      "cell_type": "markdown",
      "source": [
        "count : 7864 그리고 numOfRows 는 99씩으로, pageNo은 80개로 "
      ],
      "metadata": {
        "id": "8O-ZNHV4I5g4"
      }
    },
    {
      "cell_type": "markdown",
      "source": [
        "![image.png](data:image/png;base64,iVBORw0KGgoAAAANSUhEUgAAAywAAADLCAYAAACMJxc6AAAgAElEQVR4nO3dfWwc933n8Q9jF0qMxqlTC9kRbaWy3SS6KlFGPFOSDQux0cA98k5ri7AFymgvll3tRhf00tTNJdEDh3pI0sR5QOHIu4yl5C6QBFsg4yVCAr4UTk9GTYk+equrU15SJ2r14NlCRnxIA13VnsH7Y2Z2Z2Zn9oFPO0u+XwAhcnaeSM385vf9fX+/33TMzMzMCAAAAAAS6B2tPgEAAAAAiEPAAgAAACCxCFgAAAAAJBYBCwAAAIDEun7RjvT2P+n1//EDfW94RC//z2m9/pYkrdDKtR/VXff16g+2b9OG1KKdDQAAAIA20LEYs4Rd+ashffozf66X36q11gr9zqPf0Hc+u0Urr1voMwIAAADQDhY4YLmmH+d3qu9r53StwS1WrN2lEyf/SBtuWLizAgAAANAeFnQMy8XhP24qWJGka9ND2vGZEV18eyHO6Jy++IF1WlP+elKv+j+eelJrPrBOX5xqcrcNbndlePfs9g8AAAAsUwsXsPz8pD79+dNNBSueay/u185npuuu9+pX/MGH+/WVczW2WK8v/PQ1nS9/PaENdY7hBBm79WwpfNzgskZc/Nnp5jYAAAAAlrkFCliu6eXjoexFrBW690sv6NxzT+iumypLX/9aXoW4MS+lEe38wDr1PbNFXz7tD0CO6w+feSQ6mHCzINVfzQces1Ia0VPPON9+u7/Rvw0AAACwvC1MwPLLl/Tc9xrLrdzx+DE93depGz/ap9+/e4Xvk79Q4cU3I7d59b/t14+0RV8+fUTbAzOLrdcXTh/QvTqtz+0d0RX/R11P+AIbN7iRJN2m357V7GSn9bktbtDT/93aq5ZGtHPLfv1oywFN/vQv9eUt31VfuDsaAAAAgCoLE7D83V+r0Mh6t+3Sn/3n9Voh6eLwf9GnfxAMcn70N38b0aXsTf3dT6XYQCO1RfdvkXT657pY49BXhvP6tqR7v/SJut3CAsHJB9ap7xlJ8mV3Tn4iZrs39ezj67Rmy3796PHjOv/MNq3Uzdr+zGsafvy76qvbhQ0AAABY3hYkYLny9z+vv9INW/Tlo3+kDSuka1NPamfUeJdLb+qXVRverN/+gCT9XH8X1ZWrdFovnJa05TbdGnfsqSfV/fnT0pYD+rO+mytjYWIzJcGuZ8OPS3UzLFNPas0HPqbP6YAmf/qazn92feDjDZ/1d2Ej2wIAAABEWbQ33d/x+HGd++EB3XuDJN2mPzz6DW3vlFQa0ycf+65eb2JfG/7A7fa1JTz+5Jy+uMXtLnZom1ZGbHtleHclwDi9X9+e8oKHWpmSKHUyLF4XtGeiz8PhTQJQf/A/AAAAsBwtyJvuV9zw7tCSbfqT7HrdeON6HRu7UV/87yv1J10rpLcv61lrv350Ne7sVkQvT23TsZ9u06tfWae+Lev0Of9njx+vymY43tSzj39Mnzst3fulv9Sxvpt1ZXi3uvvX6XX353hONiVwnFmPfQEAAADQqAUJWG784Ef1OxrTj8tLRvTJh1fo2Pf26N7O39UXHpWka3r1a5/U516MH5x/q3lbbHbiyvBud5Yw38D70oh2bnlEO28PByBesPIJDfuyGSv7juj8bz2pNf379ezdR7Q94jgr+47ofF/Dv7pj6sn6A/GrRE0iAAAAACxvCxKw6P0f1e91Sj++7Fv285Pa+e+v6Jsj31S603mp5I5nao116dTDd6+dpxNyBrpHBSRO1y33+9QTOv/TJ+Z+uK7o/VwZ3q3uz4vABAAAAGjQwoxhuW6ttn9qS/Xyt/5Cn+7drad+MKSBg3VeKvnRTyi9bkHOrvwel6beydLg2+wBAAAAzJ+FybBIWvnAExp89rQG/jr0wdXT+tpn6r3x/Tb9yWB/1Sxfr37Fm1K4onpsiaTPf0xrPu9+v+WAJn0D350sx2nd+6W/1PnQuBVvTMzPTr6mL3TVOUW/mIwKAAAAgLlZsIBF192mP/jGN/W3j31azzYwy3HFCt37paf1qYjeYBs++5rOf3a+ThAAAABA0i1cwCJJnb+rL3/viG58/I/17emaHcAcN6zV9i99U1/+d50Ldkor+47o/N0j2rnFl4Upqz/w/dv96/TtuA9D2RwAAAAAc9MxMzMzs+BHefuf9OPn/1z7v3JSr74VtcK7tWHHH2lPtl8bGIwOAAAAwLU4AYvPtX+Y1tSlX0rXrunaihVa8Z5btO63O3VjzCtXAAAAACxfix6wAAAAAECjFmZaYwAAAACYBwQsAAAAABKLgAUAAABAYhGwAAAAAEgsAhYAAAAAiUXAAgAAACCxCFgAAAAAJBYBCwAAAIDEur7ZDf5j5omFOA8AAAAAy8B/zT/Z1PpNByzXrf/9ZjcBAAAAgFmhSxgAAACAxCJgAQAAAJBYBCwAAAAAEouABQAAAEBiEbAAAAAASCwCFgAAAACJRcACAAAAILEIWAAAAAAkFgELAAAAgMQiYAEAAACQWNe3+gSWrfs+qGMfemdgkf2/z2nPi7XW/zVN/9Vr+uo5b+GtOrz7vXrP5Tf0qcIVSdKj/et1zw2/0rNHf6YXqn6uXj9opf70sVVae/UX2nny4jz9olju7k+v0/bO64ILr/1Kzx79pT7C9dZG3PJhRfwaV/1ly/rb9dTdv64bAmu8XS7DwmUVgDoi6wER91JE/YJ7D+2OgKUFvApcIEC574M69qH1eurd/mCiuoKw9u71Ona3pLd+oZ0n5/nE1t+o96+QtOIGPSrpO/O8eyxPLxRe8z0UnaDZuPovekHSR1p3WmjaFX31aKWhwynHVFV5Kjv3M30qXKm66V/1ZtS6AOZZJUDxAphy/UGSrrXy3IDmEbAsupX6yM3XSW/9IphNefEneul963XPzTfqfl1xK3i+CkJMhiXSil/X9t3rtb28IPjz1ahtAi0y79Q9u9fp5riKCDBL96ffI0Nva/pvL0pa2erTwWytv13/oVO6eu06rf23t+v+c/Vaam/VHTdJeusqDSHALD36PucZ/f7fWimde6fT+ON9WDcACWdYFvBEgQVAwNIWVupP18QXVFUByLU6XcJ8qzqtnpJTmJ0LdTfzZ3PosoM5uu+D2t55na5efiMYCN/0Xh3b/d7aXSKRGOEM8f3pddq+e50+UqOB49H+9zqB6tUbdGz3+soHtPICDak8q6UbOlfpqfQb+tSRc5XP6gYg15FhQVsjYFl0V/S/3nyf1na+V4fvuxjoEnbPTdLVy78MtVS6XWj0z3rpyFXdsXuVDt93TnuOXCx/9p6qY4SsiM+wfOfkuZgWz4vuMYC58yq5V6PGTxEQt4XyWKS3fqGdvrLB6fLnNXD8s1468pNAmXJ/ep1btv2jvur7v6eVF2iE1zXcf2/dqsO7V+lY/ztrlJ2hAIUMC9ocAUsLvFB4Tav61+ueD63XsQ/5PnjrF6HKnBus+DImOvLP+tPH1uvYY7/Ss0f/JfoA4S5h1+IzLMDC8gfcr9EdqI0FxyJ5Acy/upWo6AaOmoEqgAYEx445gvdbVcPjiz/RTrLVWGIIWFqpHEi4LShVK0RVAoKF1wuhz+MzJhEiZxKJRncdzE6tTF3UgxhLhdOFJdzVFMBsRc646LnW+KxfTdUTgIQgYGkb0VOKRrdcNjg9cVUrDNMaYyE419X733xDn/r7G/XU3e/SP/zVa/qqbq98T4V2yfEqRfen1+nY3f9a1VUMQHPCWU5PrS5e8dPKM6Ux2gsBy2KqymiEum6tcAYfS+GMhpeB+ZWePeIrZNbfrqfuXqWn0mqwuwXjUtA6N3Su0rFOSXrbWfCb1+sGXaff+M1WnhUac2twRqKy63TP7vW6x7+owTFJtPICzamdYYlbX6Esp1Of2P7Y7RJBC9oIActiol8plrGrlysZFv/Md8aHPqhHX6T1Pdlo7AASgewIlikClrZwRV89KqdVJPB+lbguYa6bKhmbAGZlQgtUMizS2rtXOdfh0YtOd4bHbtcbPISXsHdWZ2IkSdWzigGooeo9a57qe+mFwmtSep22B2YLE0EP2lLHzMzMTDMb7DxCZ3MAAAAAsxN4J1cD3rFA5wEAAAAAc0bAAgAAACCxCFgAAAAAJBYBCwAAAIDEImABAAAAkFgELAAAAAASq6mA5R//zzW9+128ugUAAABA82YTSzQVsLzvN1boztvf0/RBAAAAAGA2sUTTIc7HP7JSv3b9O/TyT97SP/3f/9f0AQEAAAAsL+9+1/W664M36WP/5jeb3rbpN90DaN709LTWrl3b6tNAAnFttAf+nwCgdRh0DwAAACCxCFgAAAAAJBYBCwAAAIDEImABAAAAkFgELAAAAAASi4AFAAAAQGIRsAAAAABILAIWAAAAAIlFwAIAAAAgsQhYEq8kPdwhdfRJl1p9LgCWrTOHpY6OiK/DKpdTByfitz/Z564LtBv3+j5Zcn+ecK79kyXFX/veszvmq7yv8P4a3b/rYMS+zzTwK4Xv5/I2MceLOk7cMS+dqLFO+G8JNIaABcD8ONkX8SCusd7DJxbnvDA/Nu2RZmYivvY0sHFJ+v6IpL2NVaaAtpeSnou6X16ev0Mc7JD2Hwruf+KQtLlO0HLphLR5rzTh36ZOo+g+7xi29JC77MDLleNu8q17y47gOV08LmmbdMucf2MsYwQsABZX/7DzEHtuR6vPBM06c7iSJWk4YzIhdRjSKffHzbSuok3tMNxswV3Vn+2/q/Hsxlz278/C7Jd04rHgepsecwKKH9bIdr40LOlQJcjYdJ+kEemlOvflmcPOvfzhl53Aa/9djZUBLw1LD/URsGBOCFjajT+N60+vBrpn+NYrt2L71qOFE3NRle7vk0YPSztGnM+9h+7JUqUbwRm3i8PBicq1eXBCgS6PB/sq+/R3RzjZp6quBWRnWujVxrqnlsuqu6QTdrDF9XUjWF4B7aB8HUdkSbxsw6bqjyKtSc1u//3edpulA5J2HA2ud+ao0zjw8c0NnkgDvHv562ucc9i32Tn+zIx0cU31vRzuPrZjRHrwvvk7HyxLBCxtZcJJ40pOKndTSXrYkE4d8qVd9zqVuU1u4XBq2KlcXHrRKcQeOt54gQqEXToh3fqIcx15lc8DkjbskU5sc9bxHrr9vgfy5ogWw4AR6Y5vVbob7H/SuW7PuIGQd7yLxxfm90J9Bzvc8mdEutWthGivG5yer17f34WsP1Q5K3cvaaQ7GZAQtTIgflGNLOUvd9vN8zA2dd+MdGBvcP9eV69az/l7+hTonnnmRUnbpHsigiipci9HZcXL3b989/K+meDzQYeqywCgSde3+gTQqBHpVrcF+8DLTmHkBSEH3ODklvucyt6pYenSsFOB3OGleYeddWjlwFxcciump4alSzucFP++4frb+R+gZ16MWMH3sPywpFMjzoP8h26A/hm6j7XcvhlpX43P+2cW7VSAxeWOR4kT/qx/WOqfxWF2GFKzRV29+zLKLTukifNO0OSZmInpsjVRP0DzHHjZzb64DnZI+7dJF2mYwNyRYWlHd6xx/vUqj17fVn8/ccltRZH0/aPugNcaLShAI7z+0V4rO92zlp9aswWVu/JN1J5RKHIbIOFiZ8qrMUtY1fLwjGBSuXtV+Ks/pXKw5A8EamZwQt114zI44Uk0YjMyMecW9VU+R/d33y9pYpixK5gXBCxtY5s04XaH2fGfgoWQf6aOmRlpxi0gyhmXvW53MAa9Ya58M9943bNOPcK4qOVkX1RlxTdzkKTISs6JbZIO1ajkAAkXOVNe+Nqfg0YDIm/ikrpfdYKFg002OEUGShFB0UFDOrVNutjEmB6gDgKWdnLLDvehPyJ95kSltdvr7y/JadnwCpCU9OC2yvZ0q8FcnTlcaRn0AuKFnK7y44ecf70Zby5FjJXA4orMsISyu8BSFBlQ1Ln2yz0gQmNYYkUE9ZGBfQPvPpqViIyO5AQrO+QEIYGGCEm3hoKWfQ0ES0CTCFjaTf8Tzr+nHpFOSnrOlh7ydc+J6xbmn8IQmIvywFP3WvNS/v3fcgIY/yxhc7VpjzNo03vof/3Vue8Tc1eV1SVbguWi0YDCVXWvzON7WIBlhIAl8bwuOF5rha+rhb9/a1wa+CV3QPQBBttjHkR1iSgHwqFrsT9V6T60KWIf+zar+vpW9Tb+LkgPusuYPKK1qlqNGc+E5WJv9LUfN0V30xmWmP3H3Vtx92KjmZdTjzR2vP5hN5sSnrJY0kWyKVh4HTMzM0ztsmT5ZveoN80hFtT09LTWrl3b6tNoQxEz1Jywl9QUmVwb7YH/JwBoHaY1XtLcbAzQtriGAQBY7ugSBgAAACCxCFgAAAAAJBYBCwAAAIDEImABAAAAkFgELAAAAAASi4AFAAAAQGIRsAAAAABIrKZfHDk9Pb1Q5wIAAABgiWv2Rby86R5YBLwlG3G4NtoD/08A0Dp0CQMAAACQWAQsAAAAABKLgAUAAABAYhGwAAAAAEgsAhYAAAAAiUXAAgAAACCxCFgAAAAAJBYBCwAAAIDEImABAAAAkFgELACA+s4cljo6Ir4OSypJD3dIByfitz/Z564LLCEHI+4J7z64dELq6JMuhbYJLz9z2L03Jpztz9TZ/8MnfPvxr+/eh5H3qLsvb9tIcdv7vk6WKquf7IsvC06WnM9rHg9oHAFLUnkFgb9wAJKs0WvWW48HWXvZtEeamYn42tPAxiXp+yOS9gYrY0C72+e7Fy4ed5bdsWZh969hpwy99ZHQyinpudD9OXGoiYNFbB/+6k+Ftjk0i+MAzSNgAbC4+oedB9xzO1p9JmhWuSVYTWRMJqQOQzrl/riZhhgsUd95RNKhiEp9yKXzkkaqMy+N7v+54VAAM8/C9/aZw9GZImAREbAk0ZnD0o4R5/sdhpti/nyoVdqXuj2jStr4YV+K1t89w0sdR30GNCN8LXX0SaMR1+zJUuW6PDNRue68rkUHJ1S5jvukgzHXblW3A7IzrfVqYxWXcheyu6QTdrCV9nUj2FUFaHcHO6T926SLj1WezVUZEEkqSV/f63z7Q/9zeK9zr8Q52SftlzSxp1KuRu4/5PyrTfwSrjUbIhZukG5pYh87jMozAZgHBCxJtGmPdGKb8733oN+31fn51LBTWbj0otNi+dBxaZNv2we/5ax/QNL+u5xK46UTTsF24GXnsxPbKp8BzfCupYeOVyqfByRtiLhm/a2Mm2s8iCVJI9Id35JmbOkhSfufdK5zL3j3jrdQLYqo72CHtHmvpBHp1g63MrLXDU7PV6/v70IWbnEud3NppDsZkGRuo8v+bdLFYekWX7eqqvKqJD3sZhsfCj+HD0kzL0cf4qB7v03MOM/7fXH7d9XKiJx6ZHEaLU/YlWcCMA8IWNrGZvfmH5FeKkkvDTuLH7wvuNoat2Lwcbc/6evnK+t+fLPz7z19zr/ff3FBzxhL0CW3YuoFzpK0b7h+y9uE+4DdtzlmhW3SPSlJKenDUrm7xA/dlsjP0H2s5fbV6te+2amkxf7/AkvQpRNOd8cPvyzNNFAOnjnqBCsTM063rovHnUzED2vtv0P6G7fBZlPo81t2RC8Pe8g3psZr/Im8V91M+Oa9KjdGhH+uCnT2+tYBFg4BSzspBxpH3QGsXiWvjtfdtOzmJtLIQJRNjzkZEK+Vne5Zy0/UrEVVXfkmas80RPdULAVewBAXqN+yIxjIeFnHTeHt97jZxs3Rnz+3pvY9VGsii/7hJsYLbg42RJzYpvKg+pmIRidvPGJgAg43w1RvHA/QJAKWdnLLfU5l8dReN6Xc11yf0olQqyiDntG0iO4Opx5h5qflJDLT4nblK9tcvU5U5adm1g1oE1Xj+kJj/CKnNW4mAIm4nxLZRTY0LXNTwRJQGwFLW0lJD/r6hNbqJuN1pfn4ZulRt1D7uq8l/NIJWsbRvDOHK32uvQBa25oLnJvhdW30BqdeihgrgcUVmWHxzQIGLFfhRsG4gMLLnFR9xYxhictYBnpL+Cbi8Y81C7+LJf7kq/fvH6fWSFb05JPOv1+nboH5R8CSVP3fciqD/hmXpEq3MB2K7rfqdfvaL2fQ2yY5hePF45XBdnQLw1x416RXSZ1wuzzEXbNzsWlPZQKJjg7p67OY8Qbzz5vAg2wJsHjCAZH3tUmq/w6VehNcxGRxGr3PD3ZIOyRdtCU9wgyAmHcELIkVKny8/qDeAPoD90VvNhGxjRTdokOqFs2KenlgOXCOuGb3hdfx7WPfZt82vn7e4W38XZAedJeFJ5vA4vICSKabBio218qALMD+o94+v6h8WZ07bLccd8v0i964G97fgvnRMTMzM9Pqk0CjJirztE+EKoEH3axKeDkSYXp6WmvXrm31abQh3zXvOWEvqQGdXBvtgf8nAGid61t9AmiGm7KNsm9G2re4ZwMsvBrXPAAAWBboEgYAAAAgsQhYAAAAACQWAQsAAACAxCJgAQAAAJBYBCwAAAAAEouABQAAAEBiEbAAAAAASKymXxw5PT29UOcCAAAAYIlr9kW8vOkeWAS8JRtxuDbaA/9PANA6dAkDAAAAkFgELAAAAAASi4AFAAAAQGIRsAAAAABILAIWAAAAAIlFwAIAAAAgsQhYAAAAACQWAQsAAACAxCJgAQAAWO5K47IGxmW3+jyACNe3+gQwv+wxS9aoLclQetBST6rVZwRgabE1PlCQMZiV6V86ZqmwylK2vLCoXCanom8dM5tXVjlZb6RldRVljRqydvn3AiwOe8xSXhlZvUbNZeFtnOerTyota9BQIXNWG/MbdTZzVhvzwXujOJRRbsr53szmK/dIaTx4D5TGZQ0UqgOGVFrWYI+MonvvlM+v+h6TJGOrJatXGh/IS5+sXQ/wn5vHyhTK3wfOV7bGBywVShHnJkkNnZ+prPf3qVo/pDQu62kp4+0fyxoBS7sJF2hdWeXLD/yiCqNSejDvFFDFnDIDoaIiUPgA8684lFGh04p/CBVzyjy/uvKQw9Llr8x4wrUrYLEUc8rk/Begpcyo852ZzStdZ3Oj11K+N3LHsdvYY5ZyyiqfN+VU4C2NxzUmpnpk5XucPQ5ldPbORp7XvgAgeOR6Gzpb78or737vBS/x9QRDPYN59ZR/Lio3YAf+rsZW/1/RVDaf9/3srN9oO6o9NSm7JBVLPTJofF32CFjaiRuspLJ5WabktXZkhtygpWSrpJQ2Bm7sYGtGJpdTMbJwAxaJmVWeC7CNlXShVJJKkqlgA4qZDa9a8LXWVsoie9StKHaFNwAWkJlVoP4cYr9RfxflQMIYbyBDaKs4mVJ20FvHVDZ7VpnRonqSkFkshe/fvPK7nN8xk3MXBhodojMsae/vWszJqvU3LJ5VqTvdQEOVexylZQ1K+YGMJrfWaATDskDAMp9K47IGJpXqkopTThHgtFQ4N99kt3fDBX8uDmVUkClNFWXLSedmlHdTz5WHfHG0IG31d7kw1PPJtCYHChovSRfcgieXyTiZlztD52dulKmC7JJkphQsrLxCqTQua+CC0t4xhzJO69Aur3WooNWDlswpf2qc7mfLU+jhlUrLeuCC071gyqmQGlstpS9bKnSmlRotqOiuY7kZltJQRjmZMqeKThtlzYcj11kS2GMFaWu3Jp8elzlYaRG2xywVwitHZVjkdlnpKsoaXYwzBvzC5UpchiJaqrOZSnNJF7Q6uG9jdUMVdvuyVOq0JXMulXRbhYGMCjH3oT+j4+fPulSrLoftMUsZtz4QzLD4FZXLSel8SbmMVc5JBdYvZ2oMpQfzyrvHsPI9zjEywToRlhcClnlnq9RpKb/LcPq7Pj8u26x/a9mXV8vKZ2UUc8rkLOW3Wsrn5RSsY7bMXsm+LKXuDBU5KVPdqYIu2Kayg+lAsKHi2eAxxgoqprqVTjnnOf50JVtTHMrIGjKU32UopUk3qHEKTcmWLVNGyVYp1a20xpUfTSmbt9zjjGt8Pv50aCv2WF6FzqzybuthcWxcMrPKdgW7hBWHJHv0gtL5vLKSVMwFdzQlbcznlXX7OxeKPcqa7v6VlpXvkeEGy2gte8ySdTntNGCsyikzVPR1SY0QyLAouiEFWETFIUsXHshXsrzFnDID47IG3cB71FJmtPHGkcq4FlMb5+skS0VNliR7sii716gT4BSdRsoAU9l8WrUbeaLHv0QKdD2vVu4qF5th8TV2SjK9NFd4/RoZsPjueFguCFjmnaHuLqd4MValpNIFlRpoCzC6TadQcltf0m5lz+j01ijpQsnQ6rixaW/Yii7VfIWZv5WlVNRkyVTaPTXzTlPKnVVRWW3syums7Ww72ZlW+vKk04fUviC7c6MM2ZJKlUyN2aPqNhosC5fdYFaS2etcBaWI1Yyt6fi7oGuj+1lKq1PS5Bu2ZErFSVvmA4xzSYpgtlVO5UI5ZYYUU5kJ91/3dnS2ehmQEEaTXY+cinRRuUzUdZ3Sap1VSb7Hs31Bds1SzWlM1Nas0pOVBpxoMfeYu5/ao1gitm1okLubtfEtqfk3c3uedJMdxxwRsLQB+3JJTmXO1gVbihqxllplKHrgn5M+TY1ZskYvVApO+0KwMDNWy9AFZ1+dhoqvFGV3Tip1pyWzc1L5KVvG5aKMzrSUMmVlLyjjFVpx6WYsaUavpezlTLkFvdkHPdpLZDeR2YxHMrPuGDxD1q55OTWgYeYuS/aAb4yGTGXzzvOr2el8U531auCGzO6SrHImsqhcrqT0YPxNU85c95pSV1rWQI1B+nWO3TNo1V8tYmaycla06tkeHnQfUr63vd/FkjXZLStvNVA/mL+MD5YmApZFYfgyJXPbh9P67Lv1S0VNlgx11ykNvMplzis4fQGKpEAAY3R1y5i0VZS0uksyjG7p6YLOylD3VvdA5dSt0x84P2ZSWV2GypXY0risgbzGuxp5MKGdNT57UWX98LSpZVQ8sOjqVLpj+ce+ZOT0Wyi43cfi5xczei1lhzLyOjqY2Xxs8BHocim5Y0wMpyJfc9xGVGW/wW5tMaGd32wAAAotSURBVONYyjOAVZ9l9cB7/1F9DVdeNy57zJJVY7pox2wzPlguCFgWkZMpMcr9U5tlbk2rMGApt8qrLDipY7sr6xRKdfZp7srKzOSUK+aVNZ2xL2eLkmlKxVeKUpdbIKYMpUo5Z/xASpJMdaugQsl0ZiArjSs3ZSrrK3ycDA+WE3ssp6J37UmSUjJSToaufK3PmhOgF15xL9CSrZKk1XM+aywUo9dS1JxfsQN4S+MMukdLxL1vxei1FJ+TqBXoFJWLXO6oPYg9ePzq9Uxla6YxvfEheWUDwYkTWIzXeQ9L7LtfJGcGsOqzjP871JslLCyUkQFqIWBZJF6wkMlISpkyU3Xji2qpHlmDkjXgte6oyRZKU9msqUwuo1w2r+wn05V9pdKyymlqZyxByRtX42WIOjeWAxqNVuavVxfT1C5HxirnWixPWpvNO9dHV7eMUedaN7Zadd9tECd4z9QbeAoAmBUynWgDHTMzMzOtPglgqZuentbatWtbfRrtKzTd9lLSbtfGvHXxCr/lO+Ha7f8J8SLfWO+Z1ZhMZ9B93JvuYzV7D8S+GX4OXcJqZVianUo+5vxm/femSxh8CFiARUBlZxYCb6Veuu9g4dpoD/w/AUDr0CUMQDLVeSs1AABYHt7R6hMAAAAAgDgELAAAAAASi4AFAAAAQGIRsAAAAABILAIWAAAAAIlFwAIAAAAgsQhYAAAAACRW0y+OnJ6eXqhzAQAAALDENfsiXt50DywC3pKNOFwb7YH/JwBoHbqEAQAAAEgsAhYAAAAAiUXAAgAAACCxCFgAAAAAJBYBCwAAAIDEImABAAAAkFgELAAAAAASi4AFAAAAQGIRsAAAADSgOJRRrtjqswCWn+tbfQIAgHZia3ygIGMwK9O/dMxSYZWlbHlhUblMTv66nZnNK6ucrDfSsrqKskYNWbv8ewESpjQua6Ag279sKqOM930qLWuwR4b3czGnTCiiMbN5976Ivnc89pgla9QOLkylZQ0aKmTOamN+o85mzmpjPrh9cSij3FT4WO65+++xqN/F/zsU3Xuz1wiv4TuWJXurpZ5U5fctb1Nv+9K4rKeljP/vBTSIgGUZ8Aozf0FWHMoop6zyVBYwz4pDGRU6rfiHVjGnzPOrgw95LE3hypwk0TqNdpLqkZXvcb73KvxR17XHzCqfr/xoj1kqyNb4gKVCSZJMZWMOZfRayvdGfRJ/09hjlvMsz5tyGgksjQ/6AoqY36U4lNHZO33BzYKobrSQJCtTqPzQRT0EjSFgWUaKz4/LNqkkosXMrPI8n9pYSRdKJakkmQq22Jrhmlip4KucmMq6LcP2qKXMqKSuuKobkAz+7IVSaVn5vIzSuKxMxnfd+yr+kRkWQz2DefW4GZZ6xzt7Z15ZY7yBDKSt4mRK2UFvHVPZ7FllRovqWbAgwFZhICP/b2FsTcesayrrj96AOSBgaaHiUEYFmdJU0Sn4fC0NwdSwobSvxSRQgCoicxKVGu5KK325oEKxJ7JFJXY7IJa/1VDOw/yBC851NOVUSI2tltKXLRU600qNFlR017HcDEtpKKOcTJlTRacVLtByGdp/6D5Aa9hjBWlrtyafHpc5WGmxdVqSQ2Jaoo2tltslbDHOGJg9c1deVVVuf9YlSlXWwJ9piM+wSFKqs5kmxZIuaHWwe5mxuoFGSVv2ZanUaUtms02YoXK4mFMm5zZAKCZ4iQji4soGIA4BS4vZl1fLymdluAVarugEC4HUcDGnjFs5MIo55aa8lkqnQnfB29eYpdzltKx8j9MCNJBTMe8VjYZ6HjCVeaUomaFopJgLbVcjpQy47LG8Cp1Z5d3WveLYuGRmle0KdgkrDkn26AWl83nnQV3MBXc0JW3M55V17wEvqLbH8irIvS5VVC5Tu2USC88es2RdTjuVsVU5ZYaKtbtzBDIscipydy78eQLzIXJMSaR6jSlepqF+hiX+HExtbGrLGkpFTZYke7Iou9eYc9BgbLV8Y1hCH3pdgPPZ4HFK47IGxhnPgoYRsLSY0W26N6upjV1S4Y2IFg9fi0nxlaKMrVbEgD1bxUlb5gPuzZ8y1Z0q6GxRlULOTCv9fF7jJTNQQBRfKcroTge2m5yy1VNj4B0gSbpsy5ZzPZm9TotjKWI1Y2s6cpCpJKlro/tZSqtT0uQbtmQqeD2j5arGvZlZ5ZVTZkgxQUtMd5Di2QU9T2C+RI0paWjsx1ROmYx/QaU75OzOoahcJuq+SWm1zqokVcpJ+4LsmqWmrfGnC9LWrNKTudheF7W2b7xLGDB/CFgSKzRYLdVYgVDM+WYvkUIFpCGzW7JGi76UtJMaVmdlHaNTQF1Gr6Xs5Uy5Bb3cyoYlKbJrzGzGI5lZWaYkGbJ2zcupAQsq3A3bP0tYVRfq0KD7IEM9g42P20p11uvmYMjsLskqZzqLyuVKSg/G35TlzHivKXWlm+5REVkO1NzAbdgIRnDygjieGGgUAUsiOcGKsnmnMuBOBdiIqPEnxVcq3xu9aZmZggopuUFKOEAJBzBAvPLDqzQuayCv8S6LB9AS1+zsQlWVPT9mCEIbiKukR47bkqLHbFT2FpNt8Y/Z8wKigjKjhtKD8Q2WRq+l7FCmnNExs/nY4CPQpVNyx+IYTuNoMxmgBqY/DvCCOKY1xhwQsCRFaVyFKUPdWw3JTfCudu9oe2pStrolOQPyKv1OS7rgG5Bsdhsq+GYCs8dyKnaFWzBMpbcWnMGublBi3mkq97y7z1JRkyVD3V0UJ6jNu74qD8eUjJR7jV4OdFKYBSeQLnhjrkq2SpJWz/mssVCMXityMHFsi2xpnEH3aAu1gu6qmfHchdFZllpjWLyZxCLPQLnI5e7hGsx6GL1WxHqmsvM1bWM5eyrFTWkshaY1lmi4QEMIWFqsPL2n/C0jblDh9hM1uipjTozejNKTlnvDG04FsfxZsIuOZCobMae70ZuWOeorSMyssq9UtqvVQgN4jFUqX6OSc92YktTVLWPU6cNtbLU0297N5q6szIzbFzw194GhADA7zFDYPKY0xvwiYGmxuH7/8S+Q8rfCODMnrfZtHtnSUrWsuiBpul8qENeKWDXlZz7Y1cA37sEIXHfhFkbfdVoalzVwQQYVhkQIj5Uro6UUS1L1QPOyZXrN+xtbg2Y/wQBQS8fMzMxMq09iuar7RvAopfCL2nhnSjuYnp7W2rVrW30a7SXQD3zptnBybbQH/p8AoHUIWIBFQGUHcbg22gP/TwDQOu9o9QkAAAAAQBwCFgAAAACJRcACAAAAILEIWAAAAAAkFgELAAAAgMQiYAEAAACQWAQsAAAAABKr6fewTE9PL9S5AAAAAFjimn2vFS+OBAAAAJBYdAkDAAAAkFgELAAAAAASi4AFAAAAQGIRsAAAAABILAIWAAAAAIlFwAIAAAAgsQhYAAAAACQWAQsAAACAxCJgAQAAAJBYBCwAAAAAEouABQAAAEBiEbAAAAAASKz/D2jACgN5rqfgAAAAAElFTkSuQmCC)"
      ],
      "metadata": {
        "id": "kY9T3f1vJA38"
      }
    },
    {
      "cell_type": "code",
      "source": [
        "df = []\n",
        "\n",
        "for i in range(0,80): # 0 부터 79까지임..\n",
        "\n",
        "  url = 'http://data.ex.co.kr/openapi/vdsinfo/vdsList?key=....&type=json&numOfRows=99&pageNo={}'.format(i)\n",
        "\n",
        "  response = requests.get(url) \n",
        "  contents = response.text \n",
        "  json_ob = parse_re(contents)\n",
        "  body = json_ob['list']\n",
        "\n",
        "  globals()[\"dataframe{}\".format(i)] = pd.DataFrame(body)\n",
        "  \n",
        "  print('완료')\n"
      ],
      "metadata": {
        "id": "vliGigHi3SVY",
        "colab": {
          "base_uri": "https://localhost:8080/"
        },
        "outputId": "c25ed086-9807-4062-dcc1-1f3d3bc66419"
      },
      "execution_count": 4,
      "outputs": [
        {
          "output_type": "stream",
          "name": "stdout",
          "text": [
            "완료\n",
            "완료\n",
            "완료\n",
            "완료\n",
            "완료\n",
            "완료\n",
            "완료\n",
            "완료\n",
            "완료\n",
            "완료\n",
            "완료\n",
            "완료\n",
            "완료\n",
            "완료\n",
            "완료\n",
            "완료\n",
            "완료\n",
            "완료\n",
            "완료\n",
            "완료\n",
            "완료\n",
            "완료\n",
            "완료\n",
            "완료\n",
            "완료\n",
            "완료\n",
            "완료\n",
            "완료\n",
            "완료\n",
            "완료\n",
            "완료\n",
            "완료\n",
            "완료\n",
            "완료\n",
            "완료\n",
            "완료\n",
            "완료\n",
            "완료\n",
            "완료\n",
            "완료\n",
            "완료\n",
            "완료\n",
            "완료\n",
            "완료\n",
            "완료\n",
            "완료\n",
            "완료\n",
            "완료\n",
            "완료\n",
            "완료\n",
            "완료\n",
            "완료\n",
            "완료\n",
            "완료\n",
            "완료\n",
            "완료\n",
            "완료\n",
            "완료\n",
            "완료\n",
            "완료\n",
            "완료\n",
            "완료\n",
            "완료\n",
            "완료\n",
            "완료\n",
            "완료\n",
            "완료\n",
            "완료\n",
            "완료\n",
            "완료\n",
            "완료\n",
            "완료\n",
            "완료\n",
            "완료\n",
            "완료\n",
            "완료\n",
            "완료\n",
            "완료\n",
            "완료\n",
            "완료\n"
          ]
        }
      ]
    },
    {
      "cell_type": "code",
      "source": [
        "url = 'http://data.ex.co.kr/openapi/vdsinfo/vdsList?key=2699999413&type=json&numOfRows=99&pageNo={}'.format(80)\n",
        "\n",
        "response = requests.get(url) \n",
        "contents = response.text \n",
        "json_ob = parse_re(contents)\n",
        "body = json_ob['list']\n",
        "\n",
        "globals()[\"dataframe{}\".format(80)] = pd.DataFrame(body)"
      ],
      "metadata": {
        "id": "OeOWrANUE4qF"
      },
      "execution_count": 16,
      "outputs": []
    },
    {
      "cell_type": "code",
      "source": [
        "print(dataframe80.shape)"
      ],
      "metadata": {
        "colab": {
          "base_uri": "https://localhost:8080/"
        },
        "id": "HmbJbcbWJ-RO",
        "outputId": "dc072955-95cb-449f-9ee9-064dcae29937"
      },
      "execution_count": 50,
      "outputs": [
        {
          "output_type": "stream",
          "name": "stdout",
          "text": [
            "(43, 20)\n"
          ]
        }
      ]
    },
    {
      "cell_type": "markdown",
      "source": [
        "## 리스트 공부"
      ],
      "metadata": {
        "id": "PRRmdKkdaXFj"
      }
    },
    {
      "cell_type": "markdown",
      "source": [
        "name = [j for j in range(0,80)] # 숫자\n",
        "name = list(map(str,name)) # int를 str로 변환\n",
        "\n",
        "name2 = ['dataframe'] * 80 # 데이터프레임\n",
        "\n",
        "print(name2+name)"
      ],
      "metadata": {
        "id": "Z_0j3FMGDgIO"
      }
    },
    {
      "cell_type": "code",
      "source": [
        "for k in range(0,3):\n",
        "  print('dataframe{}'.format(k)) ###오!"
      ],
      "metadata": {
        "colab": {
          "base_uri": "https://localhost:8080/"
        },
        "id": "xabFLzRxD8DG",
        "outputId": "359c4a70-a977-430b-a52a-58a2d082feae"
      },
      "execution_count": 13,
      "outputs": [
        {
          "output_type": "stream",
          "name": "stdout",
          "text": [
            "dataframe0\n",
            "dataframe1\n",
            "dataframe2\n"
          ]
        }
      ]
    },
    {
      "cell_type": "code",
      "source": [
        "print(dataframe70.shape)\n",
        "print(dataframe71.shape)\n",
        "print(dataframe72.shape)\n",
        "print(dataframe73.shape)\n",
        "print(dataframe74.shape)\n",
        "print(dataframe75.shape)\n",
        "print(dataframe76.shape)\n",
        "print(dataframe77.shape)\n",
        "print(dataframe78.shape)\n",
        "print(dataframe79.shape)\n",
        "print(dataframe80.shape)\n",
        "#print(dataframe81.shape)"
      ],
      "metadata": {
        "colab": {
          "base_uri": "https://localhost:8080/"
        },
        "id": "fzJQ_k-DF9RU",
        "outputId": "b409dabe-5443-4a2d-8d23-4f4d5ea17a17"
      },
      "execution_count": 36,
      "outputs": [
        {
          "output_type": "stream",
          "name": "stdout",
          "text": [
            "(99, 20)\n",
            "(99, 20)\n",
            "(99, 20)\n",
            "(99, 20)\n",
            "(99, 20)\n",
            "(99, 20)\n",
            "(99, 20)\n",
            "(99, 20)\n",
            "(99, 20)\n",
            "(99, 20)\n",
            "(43, 20)\n"
          ]
        }
      ]
    },
    {
      "cell_type": "markdown",
      "source": [
        "## 해결 ^.<"
      ],
      "metadata": {
        "id": "Mup0FbUTEmP2"
      }
    },
    {
      "cell_type": "markdown",
      "source": [
        "## 여러개의 데이터프레임 concat으로 결합"
      ],
      "metadata": {
        "id": "ua9MntDrIjHf"
      }
    },
    {
      "cell_type": "code",
      "source": [
        "pineapple = []\n",
        "\n",
        "for j in range(0,81):\n",
        "  pineapple.append('dataframe{}'.format(j))"
      ],
      "metadata": {
        "id": "aExiiFBVDh8K"
      },
      "execution_count": 38,
      "outputs": []
    },
    {
      "cell_type": "code",
      "source": [
        "print(pineapple)"
      ],
      "metadata": {
        "colab": {
          "base_uri": "https://localhost:8080/"
        },
        "id": "1DEHrvdaEp6Z",
        "outputId": "093a29bf-7006-40e5-8c16-8f6469164756"
      },
      "execution_count": 39,
      "outputs": [
        {
          "output_type": "stream",
          "name": "stdout",
          "text": [
            "['dataframe0', 'dataframe1', 'dataframe2', 'dataframe3', 'dataframe4', 'dataframe5', 'dataframe6', 'dataframe7', 'dataframe8', 'dataframe9', 'dataframe10', 'dataframe11', 'dataframe12', 'dataframe13', 'dataframe14', 'dataframe15', 'dataframe16', 'dataframe17', 'dataframe18', 'dataframe19', 'dataframe20', 'dataframe21', 'dataframe22', 'dataframe23', 'dataframe24', 'dataframe25', 'dataframe26', 'dataframe27', 'dataframe28', 'dataframe29', 'dataframe30', 'dataframe31', 'dataframe32', 'dataframe33', 'dataframe34', 'dataframe35', 'dataframe36', 'dataframe37', 'dataframe38', 'dataframe39', 'dataframe40', 'dataframe41', 'dataframe42', 'dataframe43', 'dataframe44', 'dataframe45', 'dataframe46', 'dataframe47', 'dataframe48', 'dataframe49', 'dataframe50', 'dataframe51', 'dataframe52', 'dataframe53', 'dataframe54', 'dataframe55', 'dataframe56', 'dataframe57', 'dataframe58', 'dataframe59', 'dataframe60', 'dataframe61', 'dataframe62', 'dataframe63', 'dataframe64', 'dataframe65', 'dataframe66', 'dataframe67', 'dataframe68', 'dataframe69', 'dataframe70', 'dataframe71', 'dataframe72', 'dataframe73', 'dataframe74', 'dataframe75', 'dataframe76', 'dataframe77', 'dataframe78', 'dataframe79', 'dataframe80']\n"
          ]
        }
      ]
    },
    {
      "cell_type": "code",
      "source": [
        "StrP = \", \".join(pineapple)\n",
        "StrP"
      ],
      "metadata": {
        "colab": {
          "base_uri": "https://localhost:8080/",
          "height": 201
        },
        "id": "0WGiOv-iHcPX",
        "outputId": "62f2b605-4e48-434d-98b6-400449903cac"
      },
      "execution_count": 43,
      "outputs": [
        {
          "output_type": "execute_result",
          "data": {
            "text/plain": [
              "'dataframe0, dataframe1, dataframe2, dataframe3, dataframe4, dataframe5, dataframe6, dataframe7, dataframe8, dataframe9, dataframe10, dataframe11, dataframe12, dataframe13, dataframe14, dataframe15, dataframe16, dataframe17, dataframe18, dataframe19, dataframe20, dataframe21, dataframe22, dataframe23, dataframe24, dataframe25, dataframe26, dataframe27, dataframe28, dataframe29, dataframe30, dataframe31, dataframe32, dataframe33, dataframe34, dataframe35, dataframe36, dataframe37, dataframe38, dataframe39, dataframe40, dataframe41, dataframe42, dataframe43, dataframe44, dataframe45, dataframe46, dataframe47, dataframe48, dataframe49, dataframe50, dataframe51, dataframe52, dataframe53, dataframe54, dataframe55, dataframe56, dataframe57, dataframe58, dataframe59, dataframe60, dataframe61, dataframe62, dataframe63, dataframe64, dataframe65, dataframe66, dataframe67, dataframe68, dataframe69, dataframe70, dataframe71, dataframe72, dataframe73, dataframe74, dataframe75, dataframe76, dataframe77, dataframe78, dataframe79, dataframe80'"
            ],
            "application/vnd.google.colaboratory.intrinsic+json": {
              "type": "string"
            }
          },
          "metadata": {},
          "execution_count": 43
        }
      ]
    },
    {
      "cell_type": "code",
      "source": [
        "dataframe = pd.concat([dataframe0, dataframe1, dataframe2, dataframe3, dataframe4, dataframe5, dataframe6, dataframe7, dataframe8, dataframe9, dataframe10, dataframe11, dataframe12, dataframe13, dataframe14, dataframe15, dataframe16, dataframe17, dataframe18, dataframe19, dataframe20, dataframe21, dataframe22, dataframe23, dataframe24, dataframe25, dataframe26, dataframe27, dataframe28, dataframe29, dataframe30, dataframe31, dataframe32, dataframe33, dataframe34, dataframe35, dataframe36, dataframe37, dataframe38, dataframe39, dataframe40, dataframe41, dataframe42, dataframe43, dataframe44, dataframe45, dataframe46, dataframe47, dataframe48, dataframe49, dataframe50, dataframe51, dataframe52, dataframe53, dataframe54, dataframe55, dataframe56, dataframe57, dataframe58, dataframe59, dataframe60, dataframe61, dataframe62, dataframe63, dataframe64, dataframe65, dataframe66, dataframe67, dataframe68, dataframe69, dataframe70, dataframe71, dataframe72, dataframe73, dataframe74, dataframe75, dataframe76, dataframe77, dataframe78, dataframe79, dataframe80])\n",
        "dataframe = dataframe.reset_index(drop=True)\n",
        "dataframe"
      ],
      "metadata": {
        "colab": {
          "base_uri": "https://localhost:8080/",
          "height": 661
        },
        "id": "914wl-jXFdxN",
        "outputId": "5af1bb8b-d198-4449-a592-4c04a3ca0dc5"
      },
      "execution_count": 45,
      "outputs": [
        {
          "output_type": "execute_result",
          "data": {
            "text/plain": [
              "     pageNo numOfRows routeNo routeName         vdsId    shift vdsLength  \\\n",
              "0      None      None    0010       경부선  0010VDE00100   1.40km  1820.00m   \n",
              "1      None      None    0010       경부선  0010VDE00200   2.40km   830.00m   \n",
              "2      None      None    0010       경부선  0010VDE00300   3.30km  1160.00m   \n",
              "3      None      None    0010       경부선  0010VDE00400   4.50km  1070.00m   \n",
              "4      None      None    0010       경부선  0010VDE00500   5.10km   500.00m   \n",
              "...     ...       ...     ...       ...           ...      ...       ...   \n",
              "7958   None      None    6000     부산외곽선  6000VDS03150  38.59km  1100.00m   \n",
              "7959   None      None    6000     부산외곽선  6000VDS03200  41.06km  4240.00m   \n",
              "7960   None      None    6000     부산외곽선  6000VDS03300  43.39km  1060.00m   \n",
              "7961   None      None    6000     부산외곽선  6000VDS03400  45.16km  2010.00m   \n",
              "7962   None      None    6000     부산외곽선  6000VDS03500  47.41km  2510.00m   \n",
              "\n",
              "     roadgradeCode roadgradeName equipmentBelongingCode  \\\n",
              "0              101          고속국도                     00   \n",
              "1              101          고속국도                     00   \n",
              "2              101          고속국도                     00   \n",
              "3              101          고속국도                     00   \n",
              "4              101          고속국도                     00   \n",
              "...            ...           ...                    ...   \n",
              "7958           101          고속국도                     00   \n",
              "7959           101          고속국도                     00   \n",
              "7960           101          고속국도                     00   \n",
              "7961           101          고속국도                     00   \n",
              "7962           101          고속국도                     00   \n",
              "\n",
              "     equipmentBelongingName         grs80x         grs80y vdsStartShift  \\\n",
              "0                        본선  391265.168637  297630.018235        0.20km   \n",
              "1                        본선  391642.598589  298552.156704        2.02km   \n",
              "2                        본선  391873.613256  299421.826590        2.85km   \n",
              "3                        본선  391448.586328  300528.993655        4.01km   \n",
              "4                        본선  391067.934813  300978.016235        5.08km   \n",
              "...                     ...            ...            ...           ...   \n",
              "7958                     본선  391774.789168  300689.804439       38.98km   \n",
              "7959                     본선  394215.339099  300969.439132       43.22km   \n",
              "7960                     본선  396441.545159  300437.207726       44.28km   \n",
              "7961                     본선  398213.845002  300128.303582       46.29km   \n",
              "7962                     본선  400378.710312  300508.004161       48.80km   \n",
              "\n",
              "     vdsEndShift vdsCode      vdsName routeSeq directionCode        czId  \n",
              "0         2.02km       1  FTMS 본선 VDS        1             E  0010CZE010  \n",
              "1         2.85km       1  FTMS 본선 VDS        2             E  0010CZE011  \n",
              "2         4.01km       1  FTMS 본선 VDS        3             E  0010CZE011  \n",
              "3         5.08km       1  FTMS 본선 VDS        4             E  0010CZE020  \n",
              "4         5.58km       1  FTMS 본선 VDS        5             E  0010CZE030  \n",
              "...          ...     ...          ...      ...           ...         ...  \n",
              "7958     37.88km       1  FTMS 본선 VDS        5             S  6000CZS070  \n",
              "7959     38.98km       1  FTMS 본선 VDS        4             S  6000CZS080  \n",
              "7960     43.22km       1  FTMS 본선 VDS        3             S  6000CZS090  \n",
              "7961     44.28km       1  FTMS 본선 VDS        2             S  6000CZS090  \n",
              "7962     46.29km       1  FTMS 본선 VDS        1             S  6000CZS090  \n",
              "\n",
              "[7963 rows x 20 columns]"
            ],
            "text/html": [
              "\n",
              "  <div id=\"df-343060b9-8464-47c2-a0c7-19bd2b8684da\">\n",
              "    <div class=\"colab-df-container\">\n",
              "      <div>\n",
              "<style scoped>\n",
              "    .dataframe tbody tr th:only-of-type {\n",
              "        vertical-align: middle;\n",
              "    }\n",
              "\n",
              "    .dataframe tbody tr th {\n",
              "        vertical-align: top;\n",
              "    }\n",
              "\n",
              "    .dataframe thead th {\n",
              "        text-align: right;\n",
              "    }\n",
              "</style>\n",
              "<table border=\"1\" class=\"dataframe\">\n",
              "  <thead>\n",
              "    <tr style=\"text-align: right;\">\n",
              "      <th></th>\n",
              "      <th>pageNo</th>\n",
              "      <th>numOfRows</th>\n",
              "      <th>routeNo</th>\n",
              "      <th>routeName</th>\n",
              "      <th>vdsId</th>\n",
              "      <th>shift</th>\n",
              "      <th>vdsLength</th>\n",
              "      <th>roadgradeCode</th>\n",
              "      <th>roadgradeName</th>\n",
              "      <th>equipmentBelongingCode</th>\n",
              "      <th>equipmentBelongingName</th>\n",
              "      <th>grs80x</th>\n",
              "      <th>grs80y</th>\n",
              "      <th>vdsStartShift</th>\n",
              "      <th>vdsEndShift</th>\n",
              "      <th>vdsCode</th>\n",
              "      <th>vdsName</th>\n",
              "      <th>routeSeq</th>\n",
              "      <th>directionCode</th>\n",
              "      <th>czId</th>\n",
              "    </tr>\n",
              "  </thead>\n",
              "  <tbody>\n",
              "    <tr>\n",
              "      <th>0</th>\n",
              "      <td>None</td>\n",
              "      <td>None</td>\n",
              "      <td>0010</td>\n",
              "      <td>경부선</td>\n",
              "      <td>0010VDE00100</td>\n",
              "      <td>1.40km</td>\n",
              "      <td>1820.00m</td>\n",
              "      <td>101</td>\n",
              "      <td>고속국도</td>\n",
              "      <td>00</td>\n",
              "      <td>본선</td>\n",
              "      <td>391265.168637</td>\n",
              "      <td>297630.018235</td>\n",
              "      <td>0.20km</td>\n",
              "      <td>2.02km</td>\n",
              "      <td>1</td>\n",
              "      <td>FTMS 본선 VDS</td>\n",
              "      <td>1</td>\n",
              "      <td>E</td>\n",
              "      <td>0010CZE010</td>\n",
              "    </tr>\n",
              "    <tr>\n",
              "      <th>1</th>\n",
              "      <td>None</td>\n",
              "      <td>None</td>\n",
              "      <td>0010</td>\n",
              "      <td>경부선</td>\n",
              "      <td>0010VDE00200</td>\n",
              "      <td>2.40km</td>\n",
              "      <td>830.00m</td>\n",
              "      <td>101</td>\n",
              "      <td>고속국도</td>\n",
              "      <td>00</td>\n",
              "      <td>본선</td>\n",
              "      <td>391642.598589</td>\n",
              "      <td>298552.156704</td>\n",
              "      <td>2.02km</td>\n",
              "      <td>2.85km</td>\n",
              "      <td>1</td>\n",
              "      <td>FTMS 본선 VDS</td>\n",
              "      <td>2</td>\n",
              "      <td>E</td>\n",
              "      <td>0010CZE011</td>\n",
              "    </tr>\n",
              "    <tr>\n",
              "      <th>2</th>\n",
              "      <td>None</td>\n",
              "      <td>None</td>\n",
              "      <td>0010</td>\n",
              "      <td>경부선</td>\n",
              "      <td>0010VDE00300</td>\n",
              "      <td>3.30km</td>\n",
              "      <td>1160.00m</td>\n",
              "      <td>101</td>\n",
              "      <td>고속국도</td>\n",
              "      <td>00</td>\n",
              "      <td>본선</td>\n",
              "      <td>391873.613256</td>\n",
              "      <td>299421.826590</td>\n",
              "      <td>2.85km</td>\n",
              "      <td>4.01km</td>\n",
              "      <td>1</td>\n",
              "      <td>FTMS 본선 VDS</td>\n",
              "      <td>3</td>\n",
              "      <td>E</td>\n",
              "      <td>0010CZE011</td>\n",
              "    </tr>\n",
              "    <tr>\n",
              "      <th>3</th>\n",
              "      <td>None</td>\n",
              "      <td>None</td>\n",
              "      <td>0010</td>\n",
              "      <td>경부선</td>\n",
              "      <td>0010VDE00400</td>\n",
              "      <td>4.50km</td>\n",
              "      <td>1070.00m</td>\n",
              "      <td>101</td>\n",
              "      <td>고속국도</td>\n",
              "      <td>00</td>\n",
              "      <td>본선</td>\n",
              "      <td>391448.586328</td>\n",
              "      <td>300528.993655</td>\n",
              "      <td>4.01km</td>\n",
              "      <td>5.08km</td>\n",
              "      <td>1</td>\n",
              "      <td>FTMS 본선 VDS</td>\n",
              "      <td>4</td>\n",
              "      <td>E</td>\n",
              "      <td>0010CZE020</td>\n",
              "    </tr>\n",
              "    <tr>\n",
              "      <th>4</th>\n",
              "      <td>None</td>\n",
              "      <td>None</td>\n",
              "      <td>0010</td>\n",
              "      <td>경부선</td>\n",
              "      <td>0010VDE00500</td>\n",
              "      <td>5.10km</td>\n",
              "      <td>500.00m</td>\n",
              "      <td>101</td>\n",
              "      <td>고속국도</td>\n",
              "      <td>00</td>\n",
              "      <td>본선</td>\n",
              "      <td>391067.934813</td>\n",
              "      <td>300978.016235</td>\n",
              "      <td>5.08km</td>\n",
              "      <td>5.58km</td>\n",
              "      <td>1</td>\n",
              "      <td>FTMS 본선 VDS</td>\n",
              "      <td>5</td>\n",
              "      <td>E</td>\n",
              "      <td>0010CZE030</td>\n",
              "    </tr>\n",
              "    <tr>\n",
              "      <th>...</th>\n",
              "      <td>...</td>\n",
              "      <td>...</td>\n",
              "      <td>...</td>\n",
              "      <td>...</td>\n",
              "      <td>...</td>\n",
              "      <td>...</td>\n",
              "      <td>...</td>\n",
              "      <td>...</td>\n",
              "      <td>...</td>\n",
              "      <td>...</td>\n",
              "      <td>...</td>\n",
              "      <td>...</td>\n",
              "      <td>...</td>\n",
              "      <td>...</td>\n",
              "      <td>...</td>\n",
              "      <td>...</td>\n",
              "      <td>...</td>\n",
              "      <td>...</td>\n",
              "      <td>...</td>\n",
              "      <td>...</td>\n",
              "    </tr>\n",
              "    <tr>\n",
              "      <th>7958</th>\n",
              "      <td>None</td>\n",
              "      <td>None</td>\n",
              "      <td>6000</td>\n",
              "      <td>부산외곽선</td>\n",
              "      <td>6000VDS03150</td>\n",
              "      <td>38.59km</td>\n",
              "      <td>1100.00m</td>\n",
              "      <td>101</td>\n",
              "      <td>고속국도</td>\n",
              "      <td>00</td>\n",
              "      <td>본선</td>\n",
              "      <td>391774.789168</td>\n",
              "      <td>300689.804439</td>\n",
              "      <td>38.98km</td>\n",
              "      <td>37.88km</td>\n",
              "      <td>1</td>\n",
              "      <td>FTMS 본선 VDS</td>\n",
              "      <td>5</td>\n",
              "      <td>S</td>\n",
              "      <td>6000CZS070</td>\n",
              "    </tr>\n",
              "    <tr>\n",
              "      <th>7959</th>\n",
              "      <td>None</td>\n",
              "      <td>None</td>\n",
              "      <td>6000</td>\n",
              "      <td>부산외곽선</td>\n",
              "      <td>6000VDS03200</td>\n",
              "      <td>41.06km</td>\n",
              "      <td>4240.00m</td>\n",
              "      <td>101</td>\n",
              "      <td>고속국도</td>\n",
              "      <td>00</td>\n",
              "      <td>본선</td>\n",
              "      <td>394215.339099</td>\n",
              "      <td>300969.439132</td>\n",
              "      <td>43.22km</td>\n",
              "      <td>38.98km</td>\n",
              "      <td>1</td>\n",
              "      <td>FTMS 본선 VDS</td>\n",
              "      <td>4</td>\n",
              "      <td>S</td>\n",
              "      <td>6000CZS080</td>\n",
              "    </tr>\n",
              "    <tr>\n",
              "      <th>7960</th>\n",
              "      <td>None</td>\n",
              "      <td>None</td>\n",
              "      <td>6000</td>\n",
              "      <td>부산외곽선</td>\n",
              "      <td>6000VDS03300</td>\n",
              "      <td>43.39km</td>\n",
              "      <td>1060.00m</td>\n",
              "      <td>101</td>\n",
              "      <td>고속국도</td>\n",
              "      <td>00</td>\n",
              "      <td>본선</td>\n",
              "      <td>396441.545159</td>\n",
              "      <td>300437.207726</td>\n",
              "      <td>44.28km</td>\n",
              "      <td>43.22km</td>\n",
              "      <td>1</td>\n",
              "      <td>FTMS 본선 VDS</td>\n",
              "      <td>3</td>\n",
              "      <td>S</td>\n",
              "      <td>6000CZS090</td>\n",
              "    </tr>\n",
              "    <tr>\n",
              "      <th>7961</th>\n",
              "      <td>None</td>\n",
              "      <td>None</td>\n",
              "      <td>6000</td>\n",
              "      <td>부산외곽선</td>\n",
              "      <td>6000VDS03400</td>\n",
              "      <td>45.16km</td>\n",
              "      <td>2010.00m</td>\n",
              "      <td>101</td>\n",
              "      <td>고속국도</td>\n",
              "      <td>00</td>\n",
              "      <td>본선</td>\n",
              "      <td>398213.845002</td>\n",
              "      <td>300128.303582</td>\n",
              "      <td>46.29km</td>\n",
              "      <td>44.28km</td>\n",
              "      <td>1</td>\n",
              "      <td>FTMS 본선 VDS</td>\n",
              "      <td>2</td>\n",
              "      <td>S</td>\n",
              "      <td>6000CZS090</td>\n",
              "    </tr>\n",
              "    <tr>\n",
              "      <th>7962</th>\n",
              "      <td>None</td>\n",
              "      <td>None</td>\n",
              "      <td>6000</td>\n",
              "      <td>부산외곽선</td>\n",
              "      <td>6000VDS03500</td>\n",
              "      <td>47.41km</td>\n",
              "      <td>2510.00m</td>\n",
              "      <td>101</td>\n",
              "      <td>고속국도</td>\n",
              "      <td>00</td>\n",
              "      <td>본선</td>\n",
              "      <td>400378.710312</td>\n",
              "      <td>300508.004161</td>\n",
              "      <td>48.80km</td>\n",
              "      <td>46.29km</td>\n",
              "      <td>1</td>\n",
              "      <td>FTMS 본선 VDS</td>\n",
              "      <td>1</td>\n",
              "      <td>S</td>\n",
              "      <td>6000CZS090</td>\n",
              "    </tr>\n",
              "  </tbody>\n",
              "</table>\n",
              "<p>7963 rows × 20 columns</p>\n",
              "</div>\n",
              "      <button class=\"colab-df-convert\" onclick=\"convertToInteractive('df-343060b9-8464-47c2-a0c7-19bd2b8684da')\"\n",
              "              title=\"Convert this dataframe to an interactive table.\"\n",
              "              style=\"display:none;\">\n",
              "        \n",
              "  <svg xmlns=\"http://www.w3.org/2000/svg\" height=\"24px\"viewBox=\"0 0 24 24\"\n",
              "       width=\"24px\">\n",
              "    <path d=\"M0 0h24v24H0V0z\" fill=\"none\"/>\n",
              "    <path d=\"M18.56 5.44l.94 2.06.94-2.06 2.06-.94-2.06-.94-.94-2.06-.94 2.06-2.06.94zm-11 1L8.5 8.5l.94-2.06 2.06-.94-2.06-.94L8.5 2.5l-.94 2.06-2.06.94zm10 10l.94 2.06.94-2.06 2.06-.94-2.06-.94-.94-2.06-.94 2.06-2.06.94z\"/><path d=\"M17.41 7.96l-1.37-1.37c-.4-.4-.92-.59-1.43-.59-.52 0-1.04.2-1.43.59L10.3 9.45l-7.72 7.72c-.78.78-.78 2.05 0 2.83L4 21.41c.39.39.9.59 1.41.59.51 0 1.02-.2 1.41-.59l7.78-7.78 2.81-2.81c.8-.78.8-2.07 0-2.86zM5.41 20L4 18.59l7.72-7.72 1.47 1.35L5.41 20z\"/>\n",
              "  </svg>\n",
              "      </button>\n",
              "      \n",
              "  <style>\n",
              "    .colab-df-container {\n",
              "      display:flex;\n",
              "      flex-wrap:wrap;\n",
              "      gap: 12px;\n",
              "    }\n",
              "\n",
              "    .colab-df-convert {\n",
              "      background-color: #E8F0FE;\n",
              "      border: none;\n",
              "      border-radius: 50%;\n",
              "      cursor: pointer;\n",
              "      display: none;\n",
              "      fill: #1967D2;\n",
              "      height: 32px;\n",
              "      padding: 0 0 0 0;\n",
              "      width: 32px;\n",
              "    }\n",
              "\n",
              "    .colab-df-convert:hover {\n",
              "      background-color: #E2EBFA;\n",
              "      box-shadow: 0px 1px 2px rgba(60, 64, 67, 0.3), 0px 1px 3px 1px rgba(60, 64, 67, 0.15);\n",
              "      fill: #174EA6;\n",
              "    }\n",
              "\n",
              "    [theme=dark] .colab-df-convert {\n",
              "      background-color: #3B4455;\n",
              "      fill: #D2E3FC;\n",
              "    }\n",
              "\n",
              "    [theme=dark] .colab-df-convert:hover {\n",
              "      background-color: #434B5C;\n",
              "      box-shadow: 0px 1px 3px 1px rgba(0, 0, 0, 0.15);\n",
              "      filter: drop-shadow(0px 1px 2px rgba(0, 0, 0, 0.3));\n",
              "      fill: #FFFFFF;\n",
              "    }\n",
              "  </style>\n",
              "\n",
              "      <script>\n",
              "        const buttonEl =\n",
              "          document.querySelector('#df-343060b9-8464-47c2-a0c7-19bd2b8684da button.colab-df-convert');\n",
              "        buttonEl.style.display =\n",
              "          google.colab.kernel.accessAllowed ? 'block' : 'none';\n",
              "\n",
              "        async function convertToInteractive(key) {\n",
              "          const element = document.querySelector('#df-343060b9-8464-47c2-a0c7-19bd2b8684da');\n",
              "          const dataTable =\n",
              "            await google.colab.kernel.invokeFunction('convertToInteractive',\n",
              "                                                     [key], {});\n",
              "          if (!dataTable) return;\n",
              "\n",
              "          const docLinkHtml = 'Like what you see? Visit the ' +\n",
              "            '<a target=\"_blank\" href=https://colab.research.google.com/notebooks/data_table.ipynb>data table notebook</a>'\n",
              "            + ' to learn more about interactive tables.';\n",
              "          element.innerHTML = '';\n",
              "          dataTable['output_type'] = 'display_data';\n",
              "          await google.colab.output.renderOutput(dataTable, element);\n",
              "          const docLink = document.createElement('div');\n",
              "          docLink.innerHTML = docLinkHtml;\n",
              "          element.appendChild(docLink);\n",
              "        }\n",
              "      </script>\n",
              "    </div>\n",
              "  </div>\n",
              "  "
            ]
          },
          "metadata": {},
          "execution_count": 45
        }
      ]
    },
    {
      "cell_type": "code",
      "source": [
        "dataframe.to_excel('VDS 설치정보 조회 서비스.xlsx',index=False)"
      ],
      "metadata": {
        "id": "WaBAZFFO7by0"
      },
      "execution_count": 51,
      "outputs": []
    }
  ]
}