{
  "nbformat": 4,
  "nbformat_minor": 0,
  "metadata": {
    "colab": {
      "name": "고속도로 출입시설 위치정보",
      "provenance": [],
      "collapsed_sections": []
    },
    "kernelspec": {
      "name": "python3",
      "display_name": "Python 3"
    },
    "language_info": {
      "name": "python"
    }
  },
  "cells": [
    {
      "cell_type": "markdown",
      "source": [
        "## 고속도로 출입시설 위치정보"
      ],
      "metadata": {
        "id": "wCCQr9n7-5TJ"
      }
    },
    {
      "cell_type": "markdown",
      "source": [
        "http://data.ex.co.kr/openapi/basicinfo/openApiInfoM?apiId=0122&serviceType=&keyWord=%EA%B3%A0%EC%86%8D%EB%8F%84%EB%A1%9C&searchDayFrom=2014.12.01&searchDayTo=2022.05.26&CATEGORY=&GROUP_TR="
      ],
      "metadata": {
        "id": "ZvW-NWGl_GmP"
      }
    },
    {
      "cell_type": "code",
      "source": [
        "! pip install xmltodict"
      ],
      "metadata": {
        "colab": {
          "base_uri": "https://localhost:8080/"
        },
        "id": "z4GUW7Ub-5_u",
        "outputId": "86b8588a-acb9-4c23-895f-8281e0436f1b"
      },
      "execution_count": 1,
      "outputs": [
        {
          "output_type": "stream",
          "name": "stdout",
          "text": [
            "Looking in indexes: https://pypi.org/simple, https://us-python.pkg.dev/colab-wheels/public/simple/\n",
            "Collecting xmltodict\n",
            "  Downloading xmltodict-0.13.0-py2.py3-none-any.whl (10.0 kB)\n",
            "Installing collected packages: xmltodict\n",
            "Successfully installed xmltodict-0.13.0\n"
          ]
        }
      ]
    },
    {
      "cell_type": "code",
      "source": [
        "import json\n",
        "\n",
        "def parse_re(input_re: str):\n",
        "    try:\n",
        "        return_dict = json.loads(input_re)\n",
        "    except json.decoder.JSONDecodeError:\n",
        "        return_dict = dict()\n",
        "    finally:\n",
        "        return return_dict"
      ],
      "metadata": {
        "id": "zJwZqYLsBVme"
      },
      "execution_count": 2,
      "outputs": []
    },
    {
      "cell_type": "code",
      "source": [
        "import pandas as pd\n",
        "from pandas.io.json import json_normalize\n",
        "import requests\n",
        "import pprint\n",
        "import json"
      ],
      "metadata": {
        "id": "HY0zEdvJ_osE"
      },
      "execution_count": 3,
      "outputs": []
    },
    {
      "cell_type": "code",
      "source": [
        "url = 'http://data.ex.co.kr/openapi/locationinfo/locationinfoIc?key=secret&type=json'\n",
        "# url 불러오기\n",
        "response = requests.get(url)\n",
        "\n",
        "# 데이터 값 출력해보기\n",
        "contents = response.text"
      ],
      "metadata": {
        "id": "S4aRi5dL-O8h"
      },
      "execution_count": 4,
      "outputs": []
    },
    {
      "cell_type": "code",
      "source": [
        "# 문자열을 json으로 변경\n",
        "#json_ob = json.loads(contents) \n",
        "json_ob = parse_re(contents)\n",
        "\n",
        "# 필요한 부분만 추출\n",
        "body = json_ob['list']\n",
        "\n",
        "# 데이터프레임으로 변환\n",
        "dataframe = pd.DataFrame(body)"
      ],
      "metadata": {
        "id": "Z8uSOed39SYl"
      },
      "execution_count": 5,
      "outputs": []
    },
    {
      "cell_type": "code",
      "source": [
        "dataframe"
      ],
      "metadata": {
        "colab": {
          "base_uri": "https://localhost:8080/",
          "height": 424
        },
        "id": "3yBXpE8o9SbA",
        "outputId": "2ae9368b-1114-45a9-b9be-456988e8ed7b"
      },
      "execution_count": 6,
      "outputs": [
        {
          "output_type": "execute_result",
          "data": {
            "text/plain": [
              "    routeName routeNo      icCode icName      xValue     yValue\n",
              "0         경부선    0010  0010I00001   구서IC  129.097620  35.250710\n",
              "1         경부선    0010  0010I00003   양산IC  129.053314  35.378218\n",
              "2         경부선    0010  0010I00004  통도사IC  129.097021  35.498747\n",
              "3         경부선    0010  0010I00005  서울산IC  129.126636  35.553861\n",
              "4         경부선    0010  0010I00008   경주IC  129.187987  35.806331\n",
              "..        ...     ...         ...    ...         ...        ...\n",
              "400     부산외곽선    6000  6000I90010   한림IC  128.811787  35.295885\n",
              "401     부산외곽선    6000  6000J90003  기장JCT  129.222103  35.282105\n",
              "402     부산외곽선    6000  6000J90007  대감JCT  128.985138  35.271282\n",
              "403     부산외곽선    6000  6000J90009  진영JCT  128.721242  35.280259\n",
              "404     부산외곽선    6000  6000J90011  노포JCT  129.094741  35.291384\n",
              "\n",
              "[405 rows x 6 columns]"
            ],
            "text/html": [
              "\n",
              "  <div id=\"df-5172a6df-cb3b-4b76-8881-79d22f404c6f\">\n",
              "    <div class=\"colab-df-container\">\n",
              "      <div>\n",
              "<style scoped>\n",
              "    .dataframe tbody tr th:only-of-type {\n",
              "        vertical-align: middle;\n",
              "    }\n",
              "\n",
              "    .dataframe tbody tr th {\n",
              "        vertical-align: top;\n",
              "    }\n",
              "\n",
              "    .dataframe thead th {\n",
              "        text-align: right;\n",
              "    }\n",
              "</style>\n",
              "<table border=\"1\" class=\"dataframe\">\n",
              "  <thead>\n",
              "    <tr style=\"text-align: right;\">\n",
              "      <th></th>\n",
              "      <th>routeName</th>\n",
              "      <th>routeNo</th>\n",
              "      <th>icCode</th>\n",
              "      <th>icName</th>\n",
              "      <th>xValue</th>\n",
              "      <th>yValue</th>\n",
              "    </tr>\n",
              "  </thead>\n",
              "  <tbody>\n",
              "    <tr>\n",
              "      <th>0</th>\n",
              "      <td>경부선</td>\n",
              "      <td>0010</td>\n",
              "      <td>0010I00001</td>\n",
              "      <td>구서IC</td>\n",
              "      <td>129.097620</td>\n",
              "      <td>35.250710</td>\n",
              "    </tr>\n",
              "    <tr>\n",
              "      <th>1</th>\n",
              "      <td>경부선</td>\n",
              "      <td>0010</td>\n",
              "      <td>0010I00003</td>\n",
              "      <td>양산IC</td>\n",
              "      <td>129.053314</td>\n",
              "      <td>35.378218</td>\n",
              "    </tr>\n",
              "    <tr>\n",
              "      <th>2</th>\n",
              "      <td>경부선</td>\n",
              "      <td>0010</td>\n",
              "      <td>0010I00004</td>\n",
              "      <td>통도사IC</td>\n",
              "      <td>129.097021</td>\n",
              "      <td>35.498747</td>\n",
              "    </tr>\n",
              "    <tr>\n",
              "      <th>3</th>\n",
              "      <td>경부선</td>\n",
              "      <td>0010</td>\n",
              "      <td>0010I00005</td>\n",
              "      <td>서울산IC</td>\n",
              "      <td>129.126636</td>\n",
              "      <td>35.553861</td>\n",
              "    </tr>\n",
              "    <tr>\n",
              "      <th>4</th>\n",
              "      <td>경부선</td>\n",
              "      <td>0010</td>\n",
              "      <td>0010I00008</td>\n",
              "      <td>경주IC</td>\n",
              "      <td>129.187987</td>\n",
              "      <td>35.806331</td>\n",
              "    </tr>\n",
              "    <tr>\n",
              "      <th>...</th>\n",
              "      <td>...</td>\n",
              "      <td>...</td>\n",
              "      <td>...</td>\n",
              "      <td>...</td>\n",
              "      <td>...</td>\n",
              "      <td>...</td>\n",
              "    </tr>\n",
              "    <tr>\n",
              "      <th>400</th>\n",
              "      <td>부산외곽선</td>\n",
              "      <td>6000</td>\n",
              "      <td>6000I90010</td>\n",
              "      <td>한림IC</td>\n",
              "      <td>128.811787</td>\n",
              "      <td>35.295885</td>\n",
              "    </tr>\n",
              "    <tr>\n",
              "      <th>401</th>\n",
              "      <td>부산외곽선</td>\n",
              "      <td>6000</td>\n",
              "      <td>6000J90003</td>\n",
              "      <td>기장JCT</td>\n",
              "      <td>129.222103</td>\n",
              "      <td>35.282105</td>\n",
              "    </tr>\n",
              "    <tr>\n",
              "      <th>402</th>\n",
              "      <td>부산외곽선</td>\n",
              "      <td>6000</td>\n",
              "      <td>6000J90007</td>\n",
              "      <td>대감JCT</td>\n",
              "      <td>128.985138</td>\n",
              "      <td>35.271282</td>\n",
              "    </tr>\n",
              "    <tr>\n",
              "      <th>403</th>\n",
              "      <td>부산외곽선</td>\n",
              "      <td>6000</td>\n",
              "      <td>6000J90009</td>\n",
              "      <td>진영JCT</td>\n",
              "      <td>128.721242</td>\n",
              "      <td>35.280259</td>\n",
              "    </tr>\n",
              "    <tr>\n",
              "      <th>404</th>\n",
              "      <td>부산외곽선</td>\n",
              "      <td>6000</td>\n",
              "      <td>6000J90011</td>\n",
              "      <td>노포JCT</td>\n",
              "      <td>129.094741</td>\n",
              "      <td>35.291384</td>\n",
              "    </tr>\n",
              "  </tbody>\n",
              "</table>\n",
              "<p>405 rows × 6 columns</p>\n",
              "</div>\n",
              "      <button class=\"colab-df-convert\" onclick=\"convertToInteractive('df-5172a6df-cb3b-4b76-8881-79d22f404c6f')\"\n",
              "              title=\"Convert this dataframe to an interactive table.\"\n",
              "              style=\"display:none;\">\n",
              "        \n",
              "  <svg xmlns=\"http://www.w3.org/2000/svg\" height=\"24px\"viewBox=\"0 0 24 24\"\n",
              "       width=\"24px\">\n",
              "    <path d=\"M0 0h24v24H0V0z\" fill=\"none\"/>\n",
              "    <path d=\"M18.56 5.44l.94 2.06.94-2.06 2.06-.94-2.06-.94-.94-2.06-.94 2.06-2.06.94zm-11 1L8.5 8.5l.94-2.06 2.06-.94-2.06-.94L8.5 2.5l-.94 2.06-2.06.94zm10 10l.94 2.06.94-2.06 2.06-.94-2.06-.94-.94-2.06-.94 2.06-2.06.94z\"/><path d=\"M17.41 7.96l-1.37-1.37c-.4-.4-.92-.59-1.43-.59-.52 0-1.04.2-1.43.59L10.3 9.45l-7.72 7.72c-.78.78-.78 2.05 0 2.83L4 21.41c.39.39.9.59 1.41.59.51 0 1.02-.2 1.41-.59l7.78-7.78 2.81-2.81c.8-.78.8-2.07 0-2.86zM5.41 20L4 18.59l7.72-7.72 1.47 1.35L5.41 20z\"/>\n",
              "  </svg>\n",
              "      </button>\n",
              "      \n",
              "  <style>\n",
              "    .colab-df-container {\n",
              "      display:flex;\n",
              "      flex-wrap:wrap;\n",
              "      gap: 12px;\n",
              "    }\n",
              "\n",
              "    .colab-df-convert {\n",
              "      background-color: #E8F0FE;\n",
              "      border: none;\n",
              "      border-radius: 50%;\n",
              "      cursor: pointer;\n",
              "      display: none;\n",
              "      fill: #1967D2;\n",
              "      height: 32px;\n",
              "      padding: 0 0 0 0;\n",
              "      width: 32px;\n",
              "    }\n",
              "\n",
              "    .colab-df-convert:hover {\n",
              "      background-color: #E2EBFA;\n",
              "      box-shadow: 0px 1px 2px rgba(60, 64, 67, 0.3), 0px 1px 3px 1px rgba(60, 64, 67, 0.15);\n",
              "      fill: #174EA6;\n",
              "    }\n",
              "\n",
              "    [theme=dark] .colab-df-convert {\n",
              "      background-color: #3B4455;\n",
              "      fill: #D2E3FC;\n",
              "    }\n",
              "\n",
              "    [theme=dark] .colab-df-convert:hover {\n",
              "      background-color: #434B5C;\n",
              "      box-shadow: 0px 1px 3px 1px rgba(0, 0, 0, 0.15);\n",
              "      filter: drop-shadow(0px 1px 2px rgba(0, 0, 0, 0.3));\n",
              "      fill: #FFFFFF;\n",
              "    }\n",
              "  </style>\n",
              "\n",
              "      <script>\n",
              "        const buttonEl =\n",
              "          document.querySelector('#df-5172a6df-cb3b-4b76-8881-79d22f404c6f button.colab-df-convert');\n",
              "        buttonEl.style.display =\n",
              "          google.colab.kernel.accessAllowed ? 'block' : 'none';\n",
              "\n",
              "        async function convertToInteractive(key) {\n",
              "          const element = document.querySelector('#df-5172a6df-cb3b-4b76-8881-79d22f404c6f');\n",
              "          const dataTable =\n",
              "            await google.colab.kernel.invokeFunction('convertToInteractive',\n",
              "                                                     [key], {});\n",
              "          if (!dataTable) return;\n",
              "\n",
              "          const docLinkHtml = 'Like what you see? Visit the ' +\n",
              "            '<a target=\"_blank\" href=https://colab.research.google.com/notebooks/data_table.ipynb>data table notebook</a>'\n",
              "            + ' to learn more about interactive tables.';\n",
              "          element.innerHTML = '';\n",
              "          dataTable['output_type'] = 'display_data';\n",
              "          await google.colab.output.renderOutput(dataTable, element);\n",
              "          const docLink = document.createElement('div');\n",
              "          docLink.innerHTML = docLinkHtml;\n",
              "          element.appendChild(docLink);\n",
              "        }\n",
              "      </script>\n",
              "    </div>\n",
              "  </div>\n",
              "  "
            ]
          },
          "metadata": {},
          "execution_count": 6
        }
      ]
    },
    {
      "cell_type": "code",
      "source": [
        "dataframe.to_csv('xcodeycode.csv',index=False)"
      ],
      "metadata": {
        "id": "BobbjFnZ1aDN"
      },
      "execution_count": null,
      "outputs": []
    }
  ]
}