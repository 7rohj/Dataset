{
  "nbformat": 4,
  "nbformat_minor": 0,
  "metadata": {
    "colab": {
      "name": "주유소 가격과 고속도로 통행량의 상관성 ",
      "provenance": [],
      "collapsed_sections": []
    },
    "kernelspec": {
      "name": "python3",
      "display_name": "Python 3"
    },
    "language_info": {
      "name": "python"
    }
  },
  "cells": [
    {
      "cell_type": "markdown",
      "source": [
        "주유소 가격과 고속도로 통행량의 상관성\n",
        "http://data.ex.co.kr/openapi/basicinfo/openApiInfoM?apiId=0509&serviceType=&keyWord=%EC%A3%BC%EC%9C%A0%EC%86%8C%20%EA%B0%80%EA%B2%A9%20&searchDayFrom=2014.12.01&searchDayTo=2022.06.20&CATEGORY=&GROUP_TR="
      ],
      "metadata": {
        "id": "-fjidNvr5qHx"
      }
    },
    {
      "cell_type": "code",
      "execution_count": 1,
      "metadata": {
        "colab": {
          "base_uri": "https://localhost:8080/"
        },
        "id": "gTXCTDUb3IR5",
        "outputId": "972d4c6b-62e1-4797-d80b-989fb9e4e285"
      },
      "outputs": [
        {
          "output_type": "stream",
          "name": "stdout",
          "text": [
            "Looking in indexes: https://pypi.org/simple, https://us-python.pkg.dev/colab-wheels/public/simple/\n",
            "Collecting xmltodict\n",
            "  Downloading xmltodict-0.13.0-py2.py3-none-any.whl (10.0 kB)\n",
            "Installing collected packages: xmltodict\n",
            "Successfully installed xmltodict-0.13.0\n"
          ]
        }
      ],
      "source": [
        "! pip install xmltodict"
      ]
    },
    {
      "cell_type": "code",
      "source": [
        "import json\n",
        "\n",
        "def parse_re(input_re: str):\n",
        "    try:\n",
        "        return_dict = json.loads(input_re)\n",
        "    except json.decoder.JSONDecodeError:\n",
        "        return_dict = dict()\n",
        "    finally:\n",
        "        return return_dict"
      ],
      "metadata": {
        "id": "erUqOCcG3SQw"
      },
      "execution_count": 2,
      "outputs": []
    },
    {
      "cell_type": "code",
      "source": [
        "import pandas as pd\n",
        "from pandas.io.json import json_normalize\n",
        "import requests\n",
        "import pprint\n",
        "import json"
      ],
      "metadata": {
        "id": "K88HRPnn3STC"
      },
      "execution_count": 3,
      "outputs": []
    },
    {
      "cell_type": "code",
      "source": [
        "url = 'http://data.ex.co.kr/openapi/restinfo/restOilpriceList?key=...&type=json'\n",
        "\n",
        "# restinfo/restOilList?\n",
        "## hiwaySvarInfoList?\n",
        "\n",
        "response = requests.get(url) \n",
        "contents = response.text \n",
        "json_ob = parse_re(contents)\n",
        "body = json_ob['list']\n",
        "dataframe = pd.DataFrame(body)"
      ],
      "metadata": {
        "id": "vliGigHi3SVY"
      },
      "execution_count": 4,
      "outputs": []
    },
    {
      "cell_type": "code",
      "source": [
        "dataframe.shape"
      ],
      "metadata": {
        "colab": {
          "base_uri": "https://localhost:8080/"
        },
        "id": "Qx8IK2Kn4ryq",
        "outputId": "0cdecb47-3ce1-4f9a-d3d5-e350fedfab03"
      },
      "execution_count": 5,
      "outputs": [
        {
          "output_type": "execute_result",
          "data": {
            "text/plain": [
              "(4092, 19)"
            ]
          },
          "metadata": {},
          "execution_count": 5
        }
      ]
    },
    {
      "cell_type": "code",
      "source": [
        "dataframe.head(3) # vdsld : 콘존 id"
      ],
      "metadata": {
        "colab": {
          "base_uri": "https://localhost:8080/",
          "height": 312
        },
        "id": "2D0LsVwM335S",
        "outputId": "7cd88162-ba18-42a5-e0a8-c0a84d2cb246"
      },
      "execution_count": 6,
      "outputs": [
        {
          "output_type": "execute_result",
          "data": {
            "text/plain": [
              "  destination unitName unitCode     sdate stdHour routeNo routeName  \\\n",
              "0           S     서울만남   B00001  20220619      00    0010       경부선   \n",
              "1           E       죽전   B00012  20220619      00    0010       경부선   \n",
              "2           S       기흥   B00002  20220619      00    0010       경부선   \n",
              "\n",
              "          vdsId updownType locName oilCompany lpg         telNo gasolinePrice  \\\n",
              "0  0010VDE32350         부산     415         AD   Y   02-573-7430        2,109원   \n",
              "1  0010VDE30701         서울     399         AD   N  031-262-4602        2,110원   \n",
              "2  0010VDE30000         부산     388         AD   Y  031-286-5185        2,105원   \n",
              "\n",
              "  dieselPrice lpgPrice trafficAmout shareRatio avgSpeed  \n",
              "0      2,185원   1,186원         2099       2.00   112.47  \n",
              "1      2,140원        X         1999       2.12    99.08  \n",
              "2      2,149원   1,150원         1932       3.58    97.11  "
            ],
            "text/html": [
              "\n",
              "  <div id=\"df-4ef09512-79cb-4390-91b0-a5a45b8777b3\">\n",
              "    <div class=\"colab-df-container\">\n",
              "      <div>\n",
              "<style scoped>\n",
              "    .dataframe tbody tr th:only-of-type {\n",
              "        vertical-align: middle;\n",
              "    }\n",
              "\n",
              "    .dataframe tbody tr th {\n",
              "        vertical-align: top;\n",
              "    }\n",
              "\n",
              "    .dataframe thead th {\n",
              "        text-align: right;\n",
              "    }\n",
              "</style>\n",
              "<table border=\"1\" class=\"dataframe\">\n",
              "  <thead>\n",
              "    <tr style=\"text-align: right;\">\n",
              "      <th></th>\n",
              "      <th>destination</th>\n",
              "      <th>unitName</th>\n",
              "      <th>unitCode</th>\n",
              "      <th>sdate</th>\n",
              "      <th>stdHour</th>\n",
              "      <th>routeNo</th>\n",
              "      <th>routeName</th>\n",
              "      <th>vdsId</th>\n",
              "      <th>updownType</th>\n",
              "      <th>locName</th>\n",
              "      <th>oilCompany</th>\n",
              "      <th>lpg</th>\n",
              "      <th>telNo</th>\n",
              "      <th>gasolinePrice</th>\n",
              "      <th>dieselPrice</th>\n",
              "      <th>lpgPrice</th>\n",
              "      <th>trafficAmout</th>\n",
              "      <th>shareRatio</th>\n",
              "      <th>avgSpeed</th>\n",
              "    </tr>\n",
              "  </thead>\n",
              "  <tbody>\n",
              "    <tr>\n",
              "      <th>0</th>\n",
              "      <td>S</td>\n",
              "      <td>서울만남</td>\n",
              "      <td>B00001</td>\n",
              "      <td>20220619</td>\n",
              "      <td>00</td>\n",
              "      <td>0010</td>\n",
              "      <td>경부선</td>\n",
              "      <td>0010VDE32350</td>\n",
              "      <td>부산</td>\n",
              "      <td>415</td>\n",
              "      <td>AD</td>\n",
              "      <td>Y</td>\n",
              "      <td>02-573-7430</td>\n",
              "      <td>2,109원</td>\n",
              "      <td>2,185원</td>\n",
              "      <td>1,186원</td>\n",
              "      <td>2099</td>\n",
              "      <td>2.00</td>\n",
              "      <td>112.47</td>\n",
              "    </tr>\n",
              "    <tr>\n",
              "      <th>1</th>\n",
              "      <td>E</td>\n",
              "      <td>죽전</td>\n",
              "      <td>B00012</td>\n",
              "      <td>20220619</td>\n",
              "      <td>00</td>\n",
              "      <td>0010</td>\n",
              "      <td>경부선</td>\n",
              "      <td>0010VDE30701</td>\n",
              "      <td>서울</td>\n",
              "      <td>399</td>\n",
              "      <td>AD</td>\n",
              "      <td>N</td>\n",
              "      <td>031-262-4602</td>\n",
              "      <td>2,110원</td>\n",
              "      <td>2,140원</td>\n",
              "      <td>X</td>\n",
              "      <td>1999</td>\n",
              "      <td>2.12</td>\n",
              "      <td>99.08</td>\n",
              "    </tr>\n",
              "    <tr>\n",
              "      <th>2</th>\n",
              "      <td>S</td>\n",
              "      <td>기흥</td>\n",
              "      <td>B00002</td>\n",
              "      <td>20220619</td>\n",
              "      <td>00</td>\n",
              "      <td>0010</td>\n",
              "      <td>경부선</td>\n",
              "      <td>0010VDE30000</td>\n",
              "      <td>부산</td>\n",
              "      <td>388</td>\n",
              "      <td>AD</td>\n",
              "      <td>Y</td>\n",
              "      <td>031-286-5185</td>\n",
              "      <td>2,105원</td>\n",
              "      <td>2,149원</td>\n",
              "      <td>1,150원</td>\n",
              "      <td>1932</td>\n",
              "      <td>3.58</td>\n",
              "      <td>97.11</td>\n",
              "    </tr>\n",
              "  </tbody>\n",
              "</table>\n",
              "</div>\n",
              "      <button class=\"colab-df-convert\" onclick=\"convertToInteractive('df-4ef09512-79cb-4390-91b0-a5a45b8777b3')\"\n",
              "              title=\"Convert this dataframe to an interactive table.\"\n",
              "              style=\"display:none;\">\n",
              "        \n",
              "  <svg xmlns=\"http://www.w3.org/2000/svg\" height=\"24px\"viewBox=\"0 0 24 24\"\n",
              "       width=\"24px\">\n",
              "    <path d=\"M0 0h24v24H0V0z\" fill=\"none\"/>\n",
              "    <path d=\"M18.56 5.44l.94 2.06.94-2.06 2.06-.94-2.06-.94-.94-2.06-.94 2.06-2.06.94zm-11 1L8.5 8.5l.94-2.06 2.06-.94-2.06-.94L8.5 2.5l-.94 2.06-2.06.94zm10 10l.94 2.06.94-2.06 2.06-.94-2.06-.94-.94-2.06-.94 2.06-2.06.94z\"/><path d=\"M17.41 7.96l-1.37-1.37c-.4-.4-.92-.59-1.43-.59-.52 0-1.04.2-1.43.59L10.3 9.45l-7.72 7.72c-.78.78-.78 2.05 0 2.83L4 21.41c.39.39.9.59 1.41.59.51 0 1.02-.2 1.41-.59l7.78-7.78 2.81-2.81c.8-.78.8-2.07 0-2.86zM5.41 20L4 18.59l7.72-7.72 1.47 1.35L5.41 20z\"/>\n",
              "  </svg>\n",
              "      </button>\n",
              "      \n",
              "  <style>\n",
              "    .colab-df-container {\n",
              "      display:flex;\n",
              "      flex-wrap:wrap;\n",
              "      gap: 12px;\n",
              "    }\n",
              "\n",
              "    .colab-df-convert {\n",
              "      background-color: #E8F0FE;\n",
              "      border: none;\n",
              "      border-radius: 50%;\n",
              "      cursor: pointer;\n",
              "      display: none;\n",
              "      fill: #1967D2;\n",
              "      height: 32px;\n",
              "      padding: 0 0 0 0;\n",
              "      width: 32px;\n",
              "    }\n",
              "\n",
              "    .colab-df-convert:hover {\n",
              "      background-color: #E2EBFA;\n",
              "      box-shadow: 0px 1px 2px rgba(60, 64, 67, 0.3), 0px 1px 3px 1px rgba(60, 64, 67, 0.15);\n",
              "      fill: #174EA6;\n",
              "    }\n",
              "\n",
              "    [theme=dark] .colab-df-convert {\n",
              "      background-color: #3B4455;\n",
              "      fill: #D2E3FC;\n",
              "    }\n",
              "\n",
              "    [theme=dark] .colab-df-convert:hover {\n",
              "      background-color: #434B5C;\n",
              "      box-shadow: 0px 1px 3px 1px rgba(0, 0, 0, 0.15);\n",
              "      filter: drop-shadow(0px 1px 2px rgba(0, 0, 0, 0.3));\n",
              "      fill: #FFFFFF;\n",
              "    }\n",
              "  </style>\n",
              "\n",
              "      <script>\n",
              "        const buttonEl =\n",
              "          document.querySelector('#df-4ef09512-79cb-4390-91b0-a5a45b8777b3 button.colab-df-convert');\n",
              "        buttonEl.style.display =\n",
              "          google.colab.kernel.accessAllowed ? 'block' : 'none';\n",
              "\n",
              "        async function convertToInteractive(key) {\n",
              "          const element = document.querySelector('#df-4ef09512-79cb-4390-91b0-a5a45b8777b3');\n",
              "          const dataTable =\n",
              "            await google.colab.kernel.invokeFunction('convertToInteractive',\n",
              "                                                     [key], {});\n",
              "          if (!dataTable) return;\n",
              "\n",
              "          const docLinkHtml = 'Like what you see? Visit the ' +\n",
              "            '<a target=\"_blank\" href=https://colab.research.google.com/notebooks/data_table.ipynb>data table notebook</a>'\n",
              "            + ' to learn more about interactive tables.';\n",
              "          element.innerHTML = '';\n",
              "          dataTable['output_type'] = 'display_data';\n",
              "          await google.colab.output.renderOutput(dataTable, element);\n",
              "          const docLink = document.createElement('div');\n",
              "          docLink.innerHTML = docLinkHtml;\n",
              "          element.appendChild(docLink);\n",
              "        }\n",
              "      </script>\n",
              "    </div>\n",
              "  </div>\n",
              "  "
            ]
          },
          "metadata": {},
          "execution_count": 6
        }
      ]
    },
    {
      "cell_type": "code",
      "source": [
        "dataframe.to_csv('주유소 가격과 고속도로 통행량의 상관성.csv',index=False)"
      ],
      "metadata": {
        "id": "Ik8dpUwL6cdM"
      },
      "execution_count": 7,
      "outputs": []
    }
  ]
}